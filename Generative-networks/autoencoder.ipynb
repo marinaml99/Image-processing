{
 "cells": [
  {
   "cell_type": "markdown",
   "metadata": {
    "id": "TdpPHz2Lp6VD"
   },
   "source": [
    "# TP Coding an autoencoder in tensorflow/keras\n",
    "\n",
    "Author : Alasdair Newson\n",
    "\n",
    "alasdair.newson@telecom-paris.fr\n",
    "\n",
    "Student: Marina de Menezes Lima\n",
    "\n",
    "## Objective:\n",
    "\n",
    "The goal of this TP is to explore autoencoders and variational autoencoders applied to a simple dataset. In this first part, we will look at an autoencoder applied to MNIST.\n",
    "\n",
    "### Your task:\n",
    "You need to add the missing parts in the code (parts between # --- START CODE HERE and # --- END CODE HERE or # FILL IN CODE)\n",
    "\n",
    "First of all, let's load some packages"
   ]
  },
  {
   "cell_type": "code",
   "execution_count": 1,
   "metadata": {
    "id": "JqNeIJ8Op8Ao"
   },
   "outputs": [],
   "source": [
    "\n",
    "import pdb\n",
    "import matplotlib.pyplot as plt\n",
    "import numpy as np\n",
    "import os\n",
    "\n",
    "from tensorflow.keras.datasets import mnist\n",
    "from tensorflow.keras.layers import Input, Dense, Reshape, Flatten, Dropout, BatchNormalization, Activation, ZeroPadding2D, MaxPooling2D, LeakyReLU\n",
    "from tensorflow.keras.layers import UpSampling2D, Conv2D, Conv2DTranspose\n",
    "from tensorflow.keras.models import Sequential, Model, load_model\n",
    "from tensorflow.keras.optimizers import Adam\n"
   ]
  },
  {
   "cell_type": "markdown",
   "metadata": {
    "id": "Hyj5dj_eui9D"
   },
   "source": [
    "First, we define a function to load the mnist dataset."
   ]
  },
  {
   "cell_type": "code",
   "execution_count": 2,
   "metadata": {
    "id": "4YPLKlPrufSk"
   },
   "outputs": [],
   "source": [
    "def load_data():\n",
    "  (X_train, Y_train_scalar), (X_test, Y_test_scalar) = mnist.load_data()\n",
    "\n",
    "  n_max = 10000\n",
    "  X_train = X_train[0:n_max,:,:]\n",
    "  X_test = X_test[0:n_max,:,:]\n",
    "  Y_train_scalar = Y_train_scalar[0:n_max]\n",
    "  Y_test_scalar = Y_test_scalar[0:n_max]\n",
    "\n",
    "  # normalise images between 0 and 1\n",
    "  X_train = X_train/255.0\n",
    "  X_test = X_test/255.0\n",
    "  #add a channel dimension, if need be (for mnist data)\n",
    "  if(X_train.ndim ==3):\n",
    "    X_train = np.expand_dims(X_train, axis=3)\n",
    "    X_test = np.expand_dims(X_test, axis=3)\n",
    "  return X_train,X_test"
   ]
  },
  {
   "cell_type": "markdown",
   "metadata": {
    "id": "t-bkK4ktwfvC"
   },
   "source": [
    "Now, we define the general parameters of the autoencoder"
   ]
  },
  {
   "cell_type": "code",
   "execution_count": null,
   "metadata": {
    "id": "mD56EDzbvUxq"
   },
   "outputs": [],
   "source": [
    "X_train, X_test = load_data()\n",
    "\n",
    "# autoencoder parameters\n",
    "optimizer = Adam(0.01, 0.5) #\n",
    "img_rows = X_train.shape[1]\n",
    "img_cols = X_train.shape[2]\n",
    "img_channels = X_train.shape[3]\n",
    "img_size = X_train.shape[1] * X_train.shape[2] * X_train.shape[3]\n",
    "img_shape = (img_rows, img_cols, img_channels)\n",
    "z_dim = 10\n",
    "batch_size = 64\n",
    "n_epochs = 40"
   ]
  },
  {
   "cell_type": "markdown",
   "metadata": {
    "id": "6jLa2-jQwxSI"
   },
   "source": [
    "Now, define the autoencoder architecture. In the first part, we will use the following MLP architecture :\n",
    "\n",
    "Encoder :\n",
    "- Flatten input\n",
    "- Dense layer, output size z_dim\n",
    "- Leaky ReLU, with $\\alpha=0.2$\n",
    "\n",
    "Decoder :\n",
    "- Dense layer, output size 784\n",
    "- Sigmoid Activation\n",
    "- Reshape, to size $28\\times 28\\times 1$\n",
    "\n",
    "For the Reshape operation, use a ```Reshape``` layer"
   ]
  },
  {
   "cell_type": "code",
   "execution_count": 11,
   "metadata": {
    "id": "5fKIM5x0pxXR"
   },
   "outputs": [],
   "source": [
    "n_pixels = img_rows*img_cols*img_channels\n",
    "\n",
    "#BEGIN FILL IN CODE\n",
    "model = Sequential()\n",
    "model.add(Input(shape=(28,28,1)))\n",
    "\n",
    "model.add(Flatten())\n",
    "model.add(Dense(z_dim))\n",
    "model.add(LeakyReLU(alpha=0.2))\n",
    "\n",
    "model.add(Dense(784, activation='sigmoid'))\n",
    "model.add(Reshape((28,28,1)))\n",
    "\n",
    "#END FILL IN CODE"
   ]
  },
  {
   "cell_type": "markdown",
   "metadata": {
    "id": "-659aM36xvXX"
   },
   "source": [
    "Now, display the model (summary) and compile it. Use the binary cross-entropy loss, since we are in the case of MNIST."
   ]
  },
  {
   "cell_type": "code",
   "execution_count": 12,
   "metadata": {
    "colab": {
     "base_uri": "https://localhost:8080/"
    },
    "id": "wfqX6Brlxjyi",
    "outputId": "8dcf26e9-9a8d-494d-8a2a-d70cc42efa82"
   },
   "outputs": [
    {
     "name": "stdout",
     "output_type": "stream",
     "text": [
      "Model: \"sequential_2\"\n",
      "_________________________________________________________________\n",
      " Layer (type)                Output Shape              Param #   \n",
      "=================================================================\n",
      " flatten_2 (Flatten)         (None, 784)               0         \n",
      "                                                                 \n",
      " dense_4 (Dense)             (None, 10)                7850      \n",
      "                                                                 \n",
      " leaky_re_lu_2 (LeakyReLU)   (None, 10)                0         \n",
      "                                                                 \n",
      " dense_5 (Dense)             (None, 784)               8624      \n",
      "                                                                 \n",
      " reshape_1 (Reshape)         (None, 28, 28, 1)         0         \n",
      "                                                                 \n",
      "=================================================================\n",
      "Total params: 16,474\n",
      "Trainable params: 16,474\n",
      "Non-trainable params: 0\n",
      "_________________________________________________________________\n"
     ]
    }
   ],
   "source": [
    "# Build and compile the discriminator\n",
    "\n",
    "# BEGIN FILL IN CODE\n",
    "\n",
    "model.summary()\n",
    "model.compile(optimizer=optimizer, loss='binary_crossentropy', metrics=['accuracy'])\n",
    "\n",
    "# END FILL IN CODE"
   ]
  },
  {
   "cell_type": "markdown",
   "metadata": {
    "id": "w3EbmswSzJdK"
   },
   "source": [
    "We define a function to carry out testing on the autoencoder model"
   ]
  },
  {
   "cell_type": "code",
   "execution_count": 13,
   "metadata": {
    "id": "T8jXjdRyzMy2"
   },
   "outputs": [],
   "source": [
    "def test_images(ae_model, test_data):\n",
    "  n_images = 5\n",
    "  idx = np.random.randint(0, test_data.shape[0], n_images)\n",
    "  test_imgs = test_data[idx,:,:,:]\n",
    "\n",
    "  #get output images\n",
    "  output_imgs = ae_model.predict( test_imgs )\n",
    "  \n",
    "  r = 2\n",
    "  c = n_images\n",
    "  fig, axs = plt.subplots(r, c)\n",
    "  for j in range(c):\n",
    "    #black and white images\n",
    "    axs[0,j].imshow(test_imgs[j, :,:,0], cmap='gray')\n",
    "    axs[0,j].axis('off')\n",
    "    axs[1,j].imshow(output_imgs[j, :,:,0], cmap='gray')\n",
    "    axs[1,j].axis('off')\n",
    "  plt.show()"
   ]
  },
  {
   "cell_type": "markdown",
   "metadata": {
    "id": "zO9ATQEiyr3b"
   },
   "source": [
    "### Train the model\n",
    "\n",
    "Now, train the model on the mnist dataset."
   ]
  },
  {
   "cell_type": "code",
   "execution_count": 14,
   "metadata": {
    "colab": {
     "base_uri": "https://localhost:8080/",
     "height": 1000
    },
    "id": "sUXHCtvW2iQ0",
    "outputId": "4a8cc369-f0b8-4809-9d48-bc1342cb6804"
   },
   "outputs": [
    {
     "name": "stdout",
     "output_type": "stream",
     "text": [
      "Epoch 1/40\n",
      "157/157 [==============================] - 1s 3ms/step - loss: 0.2271 - accuracy: 0.7877\n",
      "Epoch 2/40\n",
      "157/157 [==============================] - 0s 3ms/step - loss: 0.1711 - accuracy: 0.8002\n",
      "Epoch 3/40\n",
      "157/157 [==============================] - 0s 3ms/step - loss: 0.1633 - accuracy: 0.8020\n",
      "Epoch 4/40\n",
      "157/157 [==============================] - 0s 3ms/step - loss: 0.1598 - accuracy: 0.8028\n",
      "Epoch 5/40\n",
      "157/157 [==============================] - 0s 3ms/step - loss: 0.1578 - accuracy: 0.8033\n",
      "Epoch 6/40\n",
      "157/157 [==============================] - 0s 3ms/step - loss: 0.1561 - accuracy: 0.8037\n",
      "Epoch 7/40\n",
      "157/157 [==============================] - 0s 3ms/step - loss: 0.1549 - accuracy: 0.8040\n",
      "Epoch 8/40\n",
      "157/157 [==============================] - 0s 3ms/step - loss: 0.1540 - accuracy: 0.8042\n",
      "Epoch 9/40\n",
      "157/157 [==============================] - 0s 3ms/step - loss: 0.1533 - accuracy: 0.8044\n",
      "Epoch 10/40\n",
      "157/157 [==============================] - 0s 3ms/step - loss: 0.1527 - accuracy: 0.8045\n",
      "Epoch 11/40\n",
      "157/157 [==============================] - 0s 3ms/step - loss: 0.1522 - accuracy: 0.8046\n",
      "Epoch 12/40\n",
      "157/157 [==============================] - 0s 3ms/step - loss: 0.1519 - accuracy: 0.8047\n",
      "Epoch 13/40\n",
      "157/157 [==============================] - 0s 3ms/step - loss: 0.1515 - accuracy: 0.8047\n",
      "Epoch 14/40\n",
      "157/157 [==============================] - 0s 3ms/step - loss: 0.1513 - accuracy: 0.8048\n",
      "Epoch 15/40\n",
      "157/157 [==============================] - 0s 3ms/step - loss: 0.1512 - accuracy: 0.8048\n",
      "Epoch 16/40\n",
      "157/157 [==============================] - 0s 3ms/step - loss: 0.1509 - accuracy: 0.8048\n",
      "Epoch 17/40\n",
      "157/157 [==============================] - 0s 3ms/step - loss: 0.1507 - accuracy: 0.8049\n",
      "Epoch 18/40\n",
      "157/157 [==============================] - 0s 3ms/step - loss: 0.1506 - accuracy: 0.8049\n",
      "Epoch 19/40\n",
      "157/157 [==============================] - 0s 3ms/step - loss: 0.1505 - accuracy: 0.8049\n",
      "Epoch 20/40\n",
      "157/157 [==============================] - 0s 3ms/step - loss: 0.1504 - accuracy: 0.8049\n",
      "Epoch 21/40\n",
      "157/157 [==============================] - 0s 3ms/step - loss: 0.1503 - accuracy: 0.8050\n",
      "Epoch 22/40\n",
      "157/157 [==============================] - 1s 3ms/step - loss: 0.1502 - accuracy: 0.8050\n",
      "Epoch 23/40\n",
      "157/157 [==============================] - 0s 3ms/step - loss: 0.1502 - accuracy: 0.8050\n",
      "Epoch 24/40\n",
      "157/157 [==============================] - 0s 3ms/step - loss: 0.1501 - accuracy: 0.8049\n",
      "Epoch 25/40\n",
      "157/157 [==============================] - 0s 3ms/step - loss: 0.1500 - accuracy: 0.8050\n",
      "Epoch 26/40\n",
      "157/157 [==============================] - 0s 3ms/step - loss: 0.1499 - accuracy: 0.8050\n",
      "Epoch 27/40\n",
      "157/157 [==============================] - 0s 3ms/step - loss: 0.1499 - accuracy: 0.8050\n",
      "Epoch 28/40\n",
      "157/157 [==============================] - 0s 3ms/step - loss: 0.1498 - accuracy: 0.8050\n",
      "Epoch 29/40\n",
      "157/157 [==============================] - 0s 3ms/step - loss: 0.1498 - accuracy: 0.8050\n",
      "Epoch 30/40\n",
      "157/157 [==============================] - 0s 3ms/step - loss: 0.1498 - accuracy: 0.8050\n",
      "Epoch 31/40\n",
      "157/157 [==============================] - 0s 3ms/step - loss: 0.1497 - accuracy: 0.8050\n",
      "Epoch 32/40\n",
      "157/157 [==============================] - 0s 3ms/step - loss: 0.1497 - accuracy: 0.8050\n",
      "Epoch 33/40\n",
      "157/157 [==============================] - 0s 3ms/step - loss: 0.1496 - accuracy: 0.8050\n",
      "Epoch 34/40\n",
      "157/157 [==============================] - 0s 3ms/step - loss: 0.1496 - accuracy: 0.8050\n",
      "Epoch 35/40\n",
      "157/157 [==============================] - 0s 3ms/step - loss: 0.1496 - accuracy: 0.8050\n",
      "Epoch 36/40\n",
      "157/157 [==============================] - 0s 3ms/step - loss: 0.1495 - accuracy: 0.8050\n",
      "Epoch 37/40\n",
      "157/157 [==============================] - 0s 3ms/step - loss: 0.1496 - accuracy: 0.8050\n",
      "Epoch 38/40\n",
      "157/157 [==============================] - 0s 3ms/step - loss: 0.1494 - accuracy: 0.8050\n",
      "Epoch 39/40\n",
      "157/157 [==============================] - 0s 3ms/step - loss: 0.1495 - accuracy: 0.8050\n",
      "Epoch 40/40\n",
      "157/157 [==============================] - 0s 3ms/step - loss: 0.1495 - accuracy: 0.8050\n"
     ]
    },
    {
     "data": {
      "image/png": "[encoded data removed]",
      "text/plain": [
       "<Figure size 432x288 with 10 Axes>"
      ]
     },
     "metadata": {
      "needs_background": "light"
     },
     "output_type": "display_data"
    }
   ],
   "source": [
    "# BEGIN FILL IN CODE\n",
    "model.fit(X_train, X_train, batch_size=batch_size, epochs=n_epochs)\n",
    "# END FILL IN CODE\n",
    "test_images(model, X_test)"
   ]
  },
  {
   "cell_type": "markdown",
   "metadata": {
    "id": "ktuGdSig5qC7"
   },
   "source": [
    "## Convolutional model\n",
    "\n",
    "Now, we are going to implement a convolutional architecture (with two dense layers in the middle) and compare the results. Implement the following architecture :\n",
    "\n",
    "Encoder :\n",
    "- 2D convolution, filter size $3\\times3$, 8 filters, stride=(2,2), padding=\"SAME\"\n",
    "- LeakyReLU ($\\alpha=0.2$)\n",
    "- 2D convolution, filter size $3\\times3$, 4 filters, stride=(2,2), padding=\"SAME\"\n",
    "- LeakyReLU ($\\alpha=0.2$)\n",
    "- Flatten tensor\n",
    "- Dense layer, output size z_dim\n",
    "\n",
    "Decoder :\n",
    "- Dense layer, output size 196\n",
    "- LeakyReLU ($\\alpha=0.2$)\n",
    "- Reshape $(7\\times7\\times 4)$\n",
    "- 2D transposed convolution, filter size $3\\times3$, 8 filters, stride=(2,2), padding=\"SAME\"\n",
    "- LeakyReLU ($\\alpha=0.2$)\n",
    "- 2D transposed convolution, filter size $3\\times3$, 1 filter, stride=(2,2), padding=\"SAME\"\n",
    "- Sigmoid activation\n",
    "\n",
    "The sizes of the tensors in the encoder and the decoder should be :\n",
    "- $28 \\times 28 \\times 1$ -> $14 \\times 14 \\times 8$ -> $7 \\times 7 \\times 4$ -> z_dim\n",
    "- z_dim -> $7 \\times 7 \\times 4$ -> $14 \\times 14 \\times 8$ -> $28 \\times 28 \\times 1$\n",
    "\n",
    "Use the previous code as an example, and implement and train the architecture."
   ]
  },
  {
   "cell_type": "code",
   "execution_count": 16,
   "metadata": {
    "colab": {
     "base_uri": "https://localhost:8080/",
     "height": 1000
    },
    "id": "uWuikdCrvZ1V",
    "outputId": "e8f42cff-5972-4cc5-ae0b-915ae18f0291"
   },
   "outputs": [
    {
     "name": "stdout",
     "output_type": "stream",
     "text": [
      "Model: \"sequential_4\"\n",
      "_________________________________________________________________\n",
      " Layer (type)                Output Shape              Param #   \n",
      "=================================================================\n",
      " conv2d (Conv2D)             (None, 14, 14, 8)         80        \n",
      "                                                                 \n",
      " leaky_re_lu_3 (LeakyReLU)   (None, 14, 14, 8)         0         \n",
      "                                                                 \n",
      " conv2d_1 (Conv2D)           (None, 7, 7, 4)           292       \n",
      "                                                                 \n",
      " leaky_re_lu_4 (LeakyReLU)   (None, 7, 7, 4)           0         \n",
      "                                                                 \n",
      " flatten_3 (Flatten)         (None, 196)               0         \n",
      "                                                                 \n",
      " dense_6 (Dense)             (None, 10)                1970      \n",
      "                                                                 \n",
      " dense_7 (Dense)             (None, 196)               2156      \n",
      "                                                                 \n",
      " leaky_re_lu_5 (LeakyReLU)   (None, 196)               0         \n",
      "                                                                 \n",
      " reshape_2 (Reshape)         (None, 7, 7, 4)           0         \n",
      "                                                                 \n",
      " conv2d_transpose (Conv2DTra  (None, 14, 14, 8)        296       \n",
      " nspose)                                                         \n",
      "                                                                 \n",
      " leaky_re_lu_6 (LeakyReLU)   (None, 14, 14, 8)         0         \n",
      "                                                                 \n",
      " conv2d_transpose_1 (Conv2DT  (None, 28, 28, 1)        73        \n",
      " ranspose)                                                       \n",
      "                                                                 \n",
      "=================================================================\n",
      "Total params: 4,867\n",
      "Trainable params: 4,867\n",
      "Non-trainable params: 0\n",
      "_________________________________________________________________\n",
      "Epoch 1/40\n",
      "157/157 [==============================] - 9s 4ms/step - loss: 0.3853 - accuracy: 0.7942\n",
      "Epoch 2/40\n",
      "157/157 [==============================] - 1s 4ms/step - loss: 0.2188 - accuracy: 0.7961\n",
      "Epoch 3/40\n",
      "157/157 [==============================] - 1s 4ms/step - loss: 0.1771 - accuracy: 0.7990\n",
      "Epoch 4/40\n",
      "157/157 [==============================] - 1s 4ms/step - loss: 0.1601 - accuracy: 0.8020\n",
      "Epoch 5/40\n",
      "157/157 [==============================] - 1s 4ms/step - loss: 0.1546 - accuracy: 0.8031\n",
      "Epoch 6/40\n",
      "157/157 [==============================] - 1s 4ms/step - loss: 0.1520 - accuracy: 0.8036\n",
      "Epoch 7/40\n",
      "157/157 [==============================] - 1s 4ms/step - loss: 0.1501 - accuracy: 0.8039\n",
      "Epoch 8/40\n",
      "157/157 [==============================] - 1s 4ms/step - loss: 0.1490 - accuracy: 0.8041\n",
      "Epoch 9/40\n",
      "157/157 [==============================] - 1s 4ms/step - loss: 0.1478 - accuracy: 0.8043\n",
      "Epoch 10/40\n",
      "157/157 [==============================] - 1s 4ms/step - loss: 0.1469 - accuracy: 0.8044\n",
      "Epoch 11/40\n",
      "157/157 [==============================] - 1s 4ms/step - loss: 0.1460 - accuracy: 0.8045\n",
      "Epoch 12/40\n",
      "157/157 [==============================] - 1s 4ms/step - loss: 0.1452 - accuracy: 0.8047\n",
      "Epoch 13/40\n",
      "157/157 [==============================] - 1s 4ms/step - loss: 0.1444 - accuracy: 0.8048\n",
      "Epoch 14/40\n",
      "157/157 [==============================] - 1s 4ms/step - loss: 0.1438 - accuracy: 0.8048\n",
      "Epoch 15/40\n",
      "157/157 [==============================] - 1s 4ms/step - loss: 0.1428 - accuracy: 0.8049\n",
      "Epoch 16/40\n",
      "157/157 [==============================] - 1s 4ms/step - loss: 0.1421 - accuracy: 0.8050\n",
      "Epoch 17/40\n",
      "157/157 [==============================] - 1s 4ms/step - loss: 0.1415 - accuracy: 0.8051\n",
      "Epoch 18/40\n",
      "157/157 [==============================] - 1s 4ms/step - loss: 0.1403 - accuracy: 0.8053\n",
      "Epoch 19/40\n",
      "157/157 [==============================] - 1s 4ms/step - loss: 0.1396 - accuracy: 0.8053\n",
      "Epoch 20/40\n",
      "157/157 [==============================] - 1s 4ms/step - loss: 0.1389 - accuracy: 0.8054\n",
      "Epoch 21/40\n",
      "157/157 [==============================] - 1s 4ms/step - loss: 0.1385 - accuracy: 0.8054\n",
      "Epoch 22/40\n",
      "157/157 [==============================] - 1s 4ms/step - loss: 0.1377 - accuracy: 0.8055\n",
      "Epoch 23/40\n",
      "157/157 [==============================] - 1s 4ms/step - loss: 0.1372 - accuracy: 0.8056\n",
      "Epoch 24/40\n",
      "157/157 [==============================] - 1s 4ms/step - loss: 0.1369 - accuracy: 0.8056\n",
      "Epoch 25/40\n",
      "157/157 [==============================] - 1s 4ms/step - loss: 0.1366 - accuracy: 0.8056\n",
      "Epoch 26/40\n",
      "157/157 [==============================] - 1s 4ms/step - loss: 0.1358 - accuracy: 0.8058\n",
      "Epoch 27/40\n",
      "157/157 [==============================] - 1s 4ms/step - loss: 0.1359 - accuracy: 0.8058\n",
      "Epoch 28/40\n",
      "157/157 [==============================] - 1s 4ms/step - loss: 0.1353 - accuracy: 0.8059\n",
      "Epoch 29/40\n",
      "157/157 [==============================] - 1s 4ms/step - loss: 0.1350 - accuracy: 0.8059\n",
      "Epoch 30/40\n",
      "157/157 [==============================] - 1s 4ms/step - loss: 0.1349 - accuracy: 0.8059\n",
      "Epoch 31/40\n",
      "157/157 [==============================] - 1s 4ms/step - loss: 0.1343 - accuracy: 0.8060\n",
      "Epoch 32/40\n",
      "157/157 [==============================] - 1s 4ms/step - loss: 0.1344 - accuracy: 0.8060\n",
      "Epoch 33/40\n",
      "157/157 [==============================] - 1s 4ms/step - loss: 0.1341 - accuracy: 0.8060\n",
      "Epoch 34/40\n",
      "157/157 [==============================] - 1s 4ms/step - loss: 0.1336 - accuracy: 0.8061\n",
      "Epoch 35/40\n",
      "157/157 [==============================] - 1s 4ms/step - loss: 0.1333 - accuracy: 0.8062\n",
      "Epoch 36/40\n",
      "157/157 [==============================] - 1s 4ms/step - loss: 0.1333 - accuracy: 0.8062\n",
      "Epoch 37/40\n",
      "157/157 [==============================] - 1s 4ms/step - loss: 0.1328 - accuracy: 0.8063\n",
      "Epoch 38/40\n",
      "157/157 [==============================] - 1s 4ms/step - loss: 0.1330 - accuracy: 0.8063\n",
      "Epoch 39/40\n",
      "157/157 [==============================] - 1s 4ms/step - loss: 0.1327 - accuracy: 0.8063\n",
      "Epoch 40/40\n",
      "157/157 [==============================] - 1s 5ms/step - loss: 0.1325 - accuracy: 0.8064\n"
     ]
    },
    {
     "data": {
      "image/png": "[encoded data removed]",
      "text/plain": [
       "<Figure size 432x288 with 10 Axes>"
      ]
     },
     "metadata": {
      "needs_background": "light"
     },
     "output_type": "display_data"
    }
   ],
   "source": [
    "#BEGIN FILL IN CODE\n",
    "conv_model = Sequential()\n",
    "conv_model.add(Input(shape=(28,28,1)))\n",
    "\n",
    "conv_model.add(Conv2D(filters=8, kernel_size=(3,3), strides=(2,2), padding='same'))\n",
    "conv_model.add(LeakyReLU(alpha=0.2))\n",
    "conv_model.add(Conv2D(filters=4, kernel_size=(3,3), strides=(2,2), padding='same'))\n",
    "conv_model.add(LeakyReLU(alpha=0.2))\n",
    "conv_model.add(Flatten())\n",
    "conv_model.add(Dense(z_dim))\n",
    "\n",
    "conv_model.add(Dense(196))\n",
    "conv_model.add(LeakyReLU(alpha=0.2))\n",
    "conv_model.add(Reshape((7,7,4)))\n",
    "conv_model.add(Conv2DTranspose(filters=8, kernel_size=(3,3), strides=(2,2), padding='same'))\n",
    "conv_model.add(LeakyReLU(alpha=0.2))\n",
    "conv_model.add(Conv2DTranspose(filters=1, kernel_size=(3,3), strides=(2,2), padding='same', activation='sigmoid'))\n",
    "\n",
    "conv_model.summary()\n",
    "\n",
    "conv_model.compile(optimizer=optimizer, loss='binary_crossentropy', metrics=[\"accuracy\"])\n",
    "\n",
    "conv_model.fit(X_train, X_train, epochs=n_epochs, batch_size=batch_size)\n",
    "test_images(conv_model, X_test)\n",
    "\n",
    "#END FILL IN CODE\n",
    "\n"
   ]
  },
  {
   "cell_type": "markdown",
   "metadata": {
    "id": "WWs6uhIa-hko"
   },
   "source": [
    "Are the performances better with this model ? Compare the number of parameters in the MLP and convolutional case"
   ]
  },
  {
   "cell_type": "markdown",
   "metadata": {
    "id": "1wjVTu2TAbf4"
   },
   "source": [
    "**Answer**: From analysing the resulting images, we can conclude that the results are better for the Convolutional case. In the MLP case, some numbers turn into images that ressemble the incorrect numbers (case of the number 3, that turns into 8) or almost unrecognizable symbols (case of the number 7). Even if not perfect, the Convolutional case presents images that are more similar to what it was expected.\n",
    "\n",
    "The Convolutional case uses way less parameters (4,867) then the MLP case (16,474), which was expected from the theory."
   ]
  },
  {
   "cell_type": "markdown",
   "metadata": {
    "id": "o5TmOfau_dhZ"
   },
   "source": [
    "## Denoising autoencoder\n",
    "\n",
    "In this part, we take the previous architecture, but now we implement a __denoising__ autoencoder. For this, we simply add Gaussian noise to the input during training, and require the autoencoder to reconstruct the non-noisy ground truth. You can do add the noise using the following function :\n",
    "- np.random.normal(loc=0.0, scale=1.0, size=curr_batch.shape)\n",
    "\n",
    "First, we modify the ```test_images``` function to take into account a noisy input."
   ]
  },
  {
   "cell_type": "code",
   "execution_count": 17,
   "metadata": {
    "id": "o6iYCO0S_5I_"
   },
   "outputs": [],
   "source": [
    "def test_images(ae_model, test_data, sigma):\n",
    "  n_images = 5\n",
    "  idx = np.random.randint(0, test_data.shape[0], n_images)\n",
    "  test_imgs = test_data[idx,:,:,:]\n",
    "\n",
    "  #get output images\n",
    "  test_imgs = np.clip(test_imgs + sigma * np.random.normal(loc=0.0, scale=1.0, size=test_imgs.shape),0.,1.)\n",
    "  output_imgs = ae_model.predict( test_imgs )\n",
    "  \n",
    "  r = 2\n",
    "  c = n_images\n",
    "  fig, axs = plt.subplots(r, c)\n",
    "  for j in range(c):\n",
    "    #black and white images\n",
    "    axs[0,j].imshow(test_imgs[j, :,:,0], cmap='gray')\n",
    "    axs[0,j].axis('off')\n",
    "    axs[1,j].imshow(output_imgs[j, :,:,0], cmap='gray')\n",
    "    axs[1,j].axis('off')\n",
    "  plt.show()"
   ]
  },
  {
   "cell_type": "markdown",
   "metadata": {
    "id": "nbRhMZv6_5y4"
   },
   "source": [
    "Now, use the previous codes to implement the denoising autoencoder. Use either the MLP architecture or the convolutional architecture.\n",
    "\n",
    "__IMPORTANT NOTE__ For this part of the TP, it is useful to use a custom training process (to add the noise to a batch). For this, you can use the following function :\n",
    "\n",
    "- loss_value = ae_model.train_on_batch(X,Y)\n",
    "\n",
    "This allows you to create a custom batch. X should be the noisy batch, and Y should be the non-noisy batch\n",
    "\n",
    "In this case, to simplify things, __do not worry about carrying out the complete batch over the database__, simply iterate n_iters times, and select a random batch at each iteration. To select a random set (of size batch_size) of integers between 0 and X_train.shape, use :\n",
    "\n",
    "- np.random.randint(0, X_train.shape[0], batch_size)\n",
    "\n",
    "Use sigma = 25.0/255.0"
   ]
  },
  {
   "cell_type": "code",
   "execution_count": 18,
   "metadata": {
    "colab": {
     "base_uri": "https://localhost:8080/",
     "height": 207
    },
    "id": "MUU7ky7D_bV7",
    "outputId": "7714ddc0-96ca-4f55-a7a2-1b4a2cc887b2"
   },
   "outputs": [
    {
     "data": {
      "image/png": "[encoded data removed]",
      "text/plain": [
       "<Figure size 432x288 with 10 Axes>"
      ]
     },
     "metadata": {
      "needs_background": "light"
     },
     "output_type": "display_data"
    }
   ],
   "source": [
    "sigma = 25.0/255.0\n",
    "n_iters = 1000\n",
    "display_loss_step = 100\n",
    "\n",
    "#BEGIN FILL IN CODE\n",
    "\n",
    "for idx in range(n_iters):\n",
    "  batch = X_train[np.random.randint(0, X_train.shape[0], batch_size),:,:,:]\n",
    "  batch_noise = np.clip(batch + sigma * np.random.normal(loc=0.0, scale=1.0, size=batch.shape),0.,1.)\n",
    "  loss_value = conv_model.train_on_batch(batch_noise, batch)\n",
    "\n",
    "test_images(conv_model, X_test, sigma)\n",
    "\n",
    "# END FILL IN CODE"
   ]
  }
 ],
 "metadata": {
  "accelerator": "GPU",
  "colab": {
   "collapsed_sections": [],
   "name": "tp_ima_206_ae_DE_MENEZES_LIMA.ipynb",
   "provenance": []
  },
  "kernelspec": {
   "display_name": "Python 3 (ipykernel)",
   "language": "python",
   "name": "python3"
  },
  "language_info": {
   "codemirror_mode": {
    "name": "ipython",
    "version": 3
   },
   "file_extension": ".py",
   "mimetype": "text/x-python",
   "name": "python",
   "nbconvert_exporter": "python",
   "pygments_lexer": "ipython3",
   "version": "3.9.7"
  }
 },
 "nbformat": 4,
 "nbformat_minor": 1
}
